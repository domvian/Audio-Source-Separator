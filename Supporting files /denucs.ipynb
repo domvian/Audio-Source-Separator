{
 "cells": [
  {
   "cell_type": "code",
   "execution_count": 2,
   "metadata": {},
   "outputs": [],
   "source": [
    "import demucs\n",
    "model = \"htdemucs\"\n",
    "extensions = [\"mp3\", \"wav\", \"ogg\", \"flac\"] \n",
    "two_stems = None\n",
    "mp3 = True\n",
    "mp3_rate = 320\n",
    "float32 = False  # output as float 32 wavs, unsused if 'mp3' is True.\n",
    "int24 = False \n",
    "\n",
    "in_path = '/Users/dominicvian/Desktop/Goldsmiths Year 3/Machine Learning/FINAL PROJECT/demucs/'\n",
    "out_path = '/Users/dominicvian/Desktop/Goldsmiths Year 3/Machine Learning/FINAL PROJECT/demucs_output/'"
   ]
  },
  {
   "cell_type": "code",
   "execution_count": 3,
   "metadata": {},
   "outputs": [],
   "source": [
    "#@title Useful functions, don't forget to execute\n",
    "import io\n",
    "from pathlib import Path\n",
    "import select\n",
    "from shutil import rmtree\n",
    "import subprocess as sp\n",
    "import sys\n",
    "from typing import Dict, Tuple, Optional, IO\n",
    "\n",
    "# def find_files(in_path):\n",
    "#     out = []\n",
    "#     for file in Path(in_path).iterdir():\n",
    "#         if file.suffix.lower().lstrip(\".\") in extensions:\n",
    "#             out.append(file)\n",
    "#     print(f\"Found {len(out)} files in {in_path}\")\n",
    "#     return out\n",
    "\n",
    "def copy_process_streams(process: sp.Popen):\n",
    "    def raw(stream: Optional[IO[bytes]]) -> IO[bytes]:\n",
    "        assert stream is not None\n",
    "        if isinstance(stream, io.BufferedIOBase):\n",
    "            stream = stream.raw\n",
    "        return stream\n",
    "\n",
    "    p_stdout, p_stderr = raw(process.stdout), raw(process.stderr)\n",
    "    stream_by_fd: Dict[int, Tuple[IO[bytes], io.StringIO, IO[str]]] = {\n",
    "        p_stdout.fileno(): (p_stdout, sys.stdout),\n",
    "        p_stderr.fileno(): (p_stderr, sys.stderr),\n",
    "    }\n",
    "    fds = list(stream_by_fd.keys())\n",
    "\n",
    "    while fds:\n",
    "        # `select` syscall will wait until one of the file descriptors has content.\n",
    "        ready, _, _ = select.select(fds, [], [])\n",
    "        for fd in ready:\n",
    "            p_stream, std = stream_by_fd[fd]\n",
    "            raw_buf = p_stream.read(2 ** 16)\n",
    "            if not raw_buf:\n",
    "                fds.remove(fd)\n",
    "                continue\n",
    "            buf = raw_buf.decode()\n",
    "            std.write(buf)\n",
    "            std.flush()\n",
    "\n",
    "def separate(inp=None, outp=None):\n",
    "    inp = inp or in_path\n",
    "    outp = outp or out_path\n",
    "    cmd = [\"python3\", \"-m\", \"demucs.separate\", \"-o\", str(outp), \"-n\", model]\n",
    "    if mp3:\n",
    "        cmd += [\"--mp3\", f\"--mp3-bitrate={mp3_rate}\"]\n",
    "    if float32:\n",
    "        cmd += [\"--float32\"]\n",
    "    if int24:\n",
    "        cmd += [\"--int24\"]\n",
    "    if two_stems is not None:\n",
    "        cmd += [f\"--two-stems={two_stems}\"]\n",
    "    files = ['/Users/dominicvian/Desktop/Goldsmiths Year 3/Machine Learning/FINAL PROJECT/demucs/pipe reversions prev.mp3']\n",
    "    print (files)\n",
    "    if not files:\n",
    "        print(\"NOPE\")\n",
    "        return\n",
    "    print(\"Going to separate the files:\")\n",
    "    print('\\n'.join(files))\n",
    "    print(\"With command: \", \" \".join(cmd))\n",
    "    p = sp.Popen(cmd + files, stdout=sp.PIPE, stderr=sp.PIPE)\n",
    "    copy_process_streams(p)\n",
    "    p.wait()\n",
    "    if p.returncode != 0:\n",
    "        print(\"Command failed, something went wrong.\")\n",
    "\n",
    "\n",
    "def from_upload():\n",
    "    out_path = Path('separated')\n",
    "    in_path = Path('tmp_in')\n",
    "    \n",
    "    if in_path.exists():\n",
    "        rmtree(in_path)\n",
    "    in_path.mkdir()\n",
    "    \n",
    "    if out_path.exists():\n",
    "        rmtree(out_path)\n",
    "    out_path.mkdir()\n",
    "    \n",
    "    uploaded = files.upload()\n",
    "    for name, content in uploaded.items():\n",
    "        (in_path / name).write_bytes(content)\n",
    "    separate(in_path, out_path)\n"
   ]
  },
  {
   "cell_type": "code",
   "execution_count": 11,
   "metadata": {},
   "outputs": [
    {
     "name": "stdout",
     "output_type": "stream",
     "text": [
      "['/Users/dominicvian/Desktop/Goldsmiths Year 3/Machine Learning/FINAL PROJECT/demucs/pipe reversions prev.mp3']\n",
      "Going to separate the files:\n",
      "/Users/dominicvian/Desktop/Goldsmiths Year 3/Machine Learning/FINAL PROJECT/demucs/pipe reversions prev.mp3\n",
      "With command:  python3 -m demucs.separate -o /Users/dominicvian/Desktop/Goldsmiths Year 3/Machine Learning/FINAL PROJECT/demucs_output/ -n htdemucs --mp3 --mp3-bitrate=320\n",
      "Selected model is a bag of 1 models. You will see that many progress bars per track.\n",
      "Separated tracks will be stored in /Users/dominicvian/Desktop/Goldsmiths Year 3/Machine Learning/FINAL PROJECT/demucs_output/htdemucs\n",
      "Separating track /Users/dominicvian/Desktop/Goldsmiths Year 3/Machine Learning/FINAL PROJECT/demucs/pipe reversions prev.mp3\n"
     ]
    },
    {
     "name": "stderr",
     "output_type": "stream",
     "text": [
      "100%|████████████████████████████████████████████████████████████████████████| 210.6/210.6 [03:50<00:00,  1.10s/seconds]\n"
     ]
    }
   ],
   "source": [
    "separate()"
   ]
  },
  {
   "cell_type": "code",
   "execution_count": 4,
   "metadata": {},
   "outputs": [
    {
     "ename": "NameError",
     "evalue": "name 'files' is not defined",
     "output_type": "error",
     "traceback": [
      "\u001b[0;31m---------------------------------------------------------------------------\u001b[0m",
      "\u001b[0;31mNameError\u001b[0m                                 Traceback (most recent call last)",
      "Cell \u001b[0;32mIn[4], line 2\u001b[0m\n\u001b[1;32m      1\u001b[0m \u001b[39m# This is manual upload and download :)\u001b[39;00m\n\u001b[0;32m----> 2\u001b[0m from_upload()\n\u001b[1;32m      3\u001b[0m get_ipython()\u001b[39m.\u001b[39msystem(\u001b[39m'\u001b[39m\u001b[39mzip -r separated.zip separated\u001b[39m\u001b[39m'\u001b[39m)\n",
      "Cell \u001b[0;32mIn[3], line 84\u001b[0m, in \u001b[0;36mfrom_upload\u001b[0;34m()\u001b[0m\n\u001b[1;32m     81\u001b[0m     rmtree(out_path)\n\u001b[1;32m     82\u001b[0m out_path\u001b[39m.\u001b[39mmkdir()\n\u001b[0;32m---> 84\u001b[0m uploaded \u001b[39m=\u001b[39m files\u001b[39m.\u001b[39mupload()\n\u001b[1;32m     85\u001b[0m \u001b[39mfor\u001b[39;00m name, content \u001b[39min\u001b[39;00m uploaded\u001b[39m.\u001b[39mitems():\n\u001b[1;32m     86\u001b[0m     (in_path \u001b[39m/\u001b[39m name)\u001b[39m.\u001b[39mwrite_bytes(content)\n",
      "\u001b[0;31mNameError\u001b[0m: name 'files' is not defined"
     ]
    }
   ],
   "source": [
    "# This is manual upload and download :)\n",
    "from_upload()\n",
    "!zip -r separated.zip separated\n",
    "#files.download('./separated.zip')"
   ]
  },
  {
   "cell_type": "markdown",
   "metadata": {},
   "source": [
    "@inproceedings{defossez2021hybrid,\n",
    "               title = {Hybrid Spectrogram and Waveform Source Separation},\n",
    "               author = {D{\\'e}fossez, Alexandre},\n",
    "               booktitle = {Proceedings of the ISMIR 2021 Workshop on Music Source Separation},\n",
    "               year = {2021}\n",
    "               }"
   ]
  },
  {
   "cell_type": "code",
   "execution_count": null,
   "metadata": {},
   "outputs": [],
   "source": []
  }
 ],
 "metadata": {
  "kernelspec": {
   "display_name": "Python 3.10.8 ('tf')",
   "language": "python",
   "name": "python3"
  },
  "language_info": {
   "codemirror_mode": {
    "name": "ipython",
    "version": 3
   },
   "file_extension": ".py",
   "mimetype": "text/x-python",
   "name": "python",
   "nbconvert_exporter": "python",
   "pygments_lexer": "ipython3",
   "version": "3.10.8"
  },
  "orig_nbformat": 4,
  "vscode": {
   "interpreter": {
    "hash": "ee3717197db56dab91ad083a26bef10706ce761f0ab8e349ac843a6f8d1f4192"
   }
  }
 },
 "nbformat": 4,
 "nbformat_minor": 2
}
